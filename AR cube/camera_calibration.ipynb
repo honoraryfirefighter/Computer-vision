{
  "nbformat": 4,
  "nbformat_minor": 0,
  "metadata": {
    "colab": {
      "provenance": [],
      "gpuType": "T4"
    },
    "kernelspec": {
      "name": "python3",
      "display_name": "Python 3"
    },
    "language_info": {
      "name": "python"
    },
    "accelerator": "GPU"
  },
  "cells": [
    {
      "cell_type": "code",
      "source": [
        "import numpy as np\n",
        "import cv2\n",
        "from base64 import b64decode\n",
        "import io\n",
        "from PIL import Image as PILImage\n",
        "from IPython.display import display, Javascript\n",
        "\n",
        "def capture_photo(quality=0.8):\n",
        "    js = Javascript('''\n",
        "        async function capturePhoto(quality) {\n",
        "            const div = document.createElement('div');\n",
        "            const capture = document.createElement('button');\n",
        "            capture.textContent = 'Capture';\n",
        "            div.appendChild(capture);\n",
        "\n",
        "            const video = document.createElement('video');\n",
        "            video.style.display = 'block';\n",
        "            const stream = await navigator.mediaDevices.getUserMedia({ video: true });\n",
        "\n",
        "            document.body.appendChild(div);\n",
        "            div.appendChild(video);\n",
        "            video.srcObject = stream;\n",
        "            await video.play();\n",
        "\n",
        "\n",
        "            google.colab.output.setIframeHeight(document.documentElement.scrollHeight, true);\n",
        "\n",
        "\n",
        "            await new Promise((resolve) => capture.onclick = resolve);\n",
        "\n",
        "            const canvas = document.createElement('canvas');\n",
        "            canvas.width = video.videoWidth;\n",
        "            canvas.height = video.videoHeight;\n",
        "            const context = canvas.getContext('2d');\n",
        "\n",
        "            while (true) {\n",
        "                context.drawImage(video, 0, 0, canvas.width, canvas.height);\n",
        "                // Check if 'q' key is pressed\n",
        "                if (await new Promise((resolve) => document.onkeypress = resolve) == 'q') {\n",
        "                    break;\n",
        "                }\n",
        "            }\n",
        "\n",
        "            stream.getVideoTracks()[0].stop();\n",
        "            div.remove();\n",
        "            return canvas.toDataURL('image/jpeg', quality);\n",
        "        }\n",
        "    ''')\n",
        "\n",
        "    display(js)\n",
        "    data = eval_js('capturePhoto({})'.format(quality))\n",
        "    binary = b64decode(data.split(',')[1])\n",
        "    img = PILImage.open(io.BytesIO(binary))\n",
        "    return np.array(img)"
      ],
      "metadata": {
        "id": "ufjGly4kXslU"
      },
      "execution_count": null,
      "outputs": []
    },
    {
      "cell_type": "code",
      "source": [
        "def camera_calibration(images, chessboard_size, square_size):\n",
        "    criteria = (cv2.TERM_CRITERIA_EPS + cv2.TERM_CRITERIA_MAX_ITER, 30, 0.001)\n",
        "\n",
        "    obj_points = []  # 3D 객체 포인트\n",
        "    img_points = []  # 2D 이미지 포인트\n",
        "\n",
        "    objp = np.zeros((1, chessboard_size[0] * chessboard_size[1], 3), np.float32)\n",
        "    objp[0, :, :2] = np.mgrid[0:chessboard_size[0], 0:chessboard_size[1]].T.reshape(-1, 2)\n",
        "\n",
        "    for image in images:\n",
        "        gray = cv2.cvtColor(image, cv2.COLOR_BGR2GRAY)\n",
        "        ret, corners = cv2.findChessboardCorners(gray, chessboard_size, None)\n",
        "\n",
        "        if ret:\n",
        "            corners2 = cv2.cornerSubPix(\n",
        "                gray, corners, (11, 11), (-1, -1), criteria\n",
        "            )\n",
        "            # 코너 좌표 계산\n",
        "            img_points.append(corners2)\n",
        "            obj_points.append(objp)\n",
        "\n",
        "    ret, mtx, dist, rvecs, tvecs = cv2.calibrateCamera(\n",
        "        obj_points, img_points, gray.shape[::-1], None, None\n",
        "    )\n",
        "\n",
        "    return mtx, dist"
      ],
      "metadata": {
        "id": "rLlJUY6zXsnq"
      },
      "execution_count": null,
      "outputs": []
    },
    {
      "cell_type": "code",
      "source": [
        "def calculate_intrinsic_parameters(mtx, dist, image_size):\n",
        "    new_camera_mtx, roi = cv2.getOptimalNewCameraMatrix(mtx, dist, image_size, 1, image_size)\n",
        "\n",
        "    return new_camera_mtx"
      ],
      "metadata": {
        "id": "MoGGgz4VXspy"
      },
      "execution_count": null,
      "outputs": []
    },
    {
      "cell_type": "code",
      "source": [],
      "metadata": {
        "id": "wC89MmsaXssC"
      },
      "execution_count": null,
      "outputs": []
    },
    {
      "cell_type": "code",
      "source": [],
      "metadata": {
        "id": "aY6ucQvTXsuI"
      },
      "execution_count": null,
      "outputs": []
    },
    {
      "cell_type": "code",
      "source": [],
      "metadata": {
        "id": "ZMrWvfF7Xswf"
      },
      "execution_count": null,
      "outputs": []
    },
    {
      "cell_type": "code",
      "source": [],
      "metadata": {
        "id": "Ytw5-eLdXsyl"
      },
      "execution_count": null,
      "outputs": []
    },
    {
      "cell_type": "code",
      "source": [],
      "metadata": {
        "id": "Jna-bkBPXs0v"
      },
      "execution_count": null,
      "outputs": []
    },
    {
      "cell_type": "code",
      "source": [],
      "metadata": {
        "id": "GbmsMNYcXs3F"
      },
      "execution_count": null,
      "outputs": []
    },
    {
      "cell_type": "code",
      "source": [],
      "metadata": {
        "id": "w2uNW96iXs7B"
      },
      "execution_count": null,
      "outputs": []
    }
  ]
}