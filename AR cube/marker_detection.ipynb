{
  "nbformat": 4,
  "nbformat_minor": 0,
  "metadata": {
    "colab": {
      "provenance": [],
      "gpuType": "T4"
    },
    "kernelspec": {
      "name": "python3",
      "display_name": "Python 3"
    },
    "language_info": {
      "name": "python"
    },
    "accelerator": "GPU"
  },
  "cells": [
    {
      "cell_type": "code",
      "execution_count": 2,
      "metadata": {
        "colab": {
          "base_uri": "https://localhost:8080/"
        },
        "id": "AD-5h27jT1f3",
        "outputId": "1df4d298-c491-476c-b91b-074142676755"
      },
      "outputs": [
        {
          "output_type": "stream",
          "name": "stdout",
          "text": [
            "Requirement already satisfied: opencv-python in /usr/local/lib/python3.10/dist-packages (4.8.0.76)\n",
            "Requirement already satisfied: numpy>=1.21.2 in /usr/local/lib/python3.10/dist-packages (from opencv-python) (1.23.5)\n"
          ]
        }
      ],
      "source": [
        "pip install opencv-python"
      ]
    },
    {
      "cell_type": "code",
      "source": [
        "import cv2\n",
        "import numpy as np"
      ],
      "metadata": {
        "id": "O8uOFvZTT4kM"
      },
      "execution_count": 3,
      "outputs": []
    },
    {
      "cell_type": "code",
      "source": [
        "checkerboard_size = (5, 5)  # 체커보드의 격자 수\n",
        "square_size = 27  # 각 격자의 크기 (mm)\n",
        "\n",
        "objp = np.zeros((np.prod(checkerboard_size), 3), dtype=np.float32)\n",
        "objp[:, :2] = np.mgrid[0:checkerboard_size[0], 0:checkerboard_size[1]].T.reshape(-1, 2)\n",
        "objp *= square_size"
      ],
      "metadata": {
        "id": "CKfYJ9jjTiWs"
      },
      "execution_count": 7,
      "outputs": []
    },
    {
      "cell_type": "code",
      "source": [
        "# 카메라 캘리브레이션\n",
        "criteria = (cv2.TERM_CRITERIA_EPS + cv2.TERM_CRITERIA_MAX_ITER, 30, 0.001)\n",
        "cap = cv2.VideoCapture(0)\n",
        "\n",
        "objpoints = []  # 3D 객체 포인트 저장\n",
        "imgpoints = []  # 2D 이미지 포인트 저장\n",
        "\n",
        "while True:\n",
        "    ret, frame = cap.read()\n",
        "\n",
        "    if not ret:\n",
        "        print(\"카메라에서 프레임을 읽을 수 없습니다.\")\n",
        "        break\n",
        "\n",
        "    gray = cv2.cvtColor(frame, cv2.COLOR_BGR2GRAY)\n",
        "    ret, corners = cv2.findChessboardCorners(gray, checkerboard_size, None)\n",
        "\n",
        "    if ret:\n",
        "        objpoints.append(objp)\n",
        "        corners2 = cv2.cornerSubPix(gray, corners, (11, 11), (-1, -1), criteria)\n",
        "        imgpoints.append(corners2)\n",
        "        cv2.drawChessboardCorners(frame, checkerboard_size, corners2, ret)\n",
        "\n",
        "    cv2.imshow(\"카메라 영상\", frame)\n",
        "\n",
        "    if cv2.waitKey(1) & 0xFF == ord(\"q\"):\n",
        "        break\n",
        "\n",
        "cap.release()\n",
        "cv2.destroyAllWindows()\n"
      ],
      "metadata": {
        "id": "ChCyrf3PTiZK"
      },
      "execution_count": 7,
      "outputs": []
    },
    {
      "cell_type": "code",
      "source": [
        "ret, mtx, dist, rvecs, tvecs = cv2.calibrateCamera(objpoints, imgpoints, gray.shape[::-1], None, None) # 캘리브레이션 진행"
      ],
      "metadata": {
        "id": "evXgJmK5TibO"
      },
      "execution_count": null,
      "outputs": []
    },
    {
      "cell_type": "code",
      "source": [
        "# 결과 출력\n",
        "print(\"camera matrix:\")\n",
        "print(mtx)\n",
        "print(\"distortion:\")\n",
        "print(dist)"
      ],
      "metadata": {
        "id": "82gIp7_3Uk9G"
      },
      "execution_count": null,
      "outputs": []
    }
  ]
}