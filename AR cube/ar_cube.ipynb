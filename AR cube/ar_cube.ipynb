{
  "nbformat": 4,
  "nbformat_minor": 0,
  "metadata": {
    "colab": {
      "provenance": [],
      "gpuType": "T4"
    },
    "kernelspec": {
      "name": "python3",
      "display_name": "Python 3"
    },
    "language_info": {
      "name": "python"
    },
    "accelerator": "GPU"
  },
  "cells": [
    {
      "cell_type": "code",
      "source": [
        "import numpy as np\n",
        "import cv2\n",
        "\n",
        "# AR 큐브 draw 함수 정의\n",
        "def draw_ar_cube(image, camera_matrix, distortion_coeff, rvec, tvec, cube_size):\n",
        "    object_points = np.array(\n",
        "        [\n",
        "            [-cube_size / 2, -cube_size / 2, 0],\n",
        "            [cube_size / 2, -cube_size / 2, 0],\n",
        "            [cube_size / 2, cube_size / 2, 0],\n",
        "            [-cube_size / 2, cube_size / 2, 0],\n",
        "            [-cube_size / 2, -cube_size / 2, -cube_size],\n",
        "            [cube_size / 2, -cube_size / 2, -cube_size],\n",
        "            [cube_size / 2, cube_size / 2, -cube_size],\n",
        "            [-cube_size / 2, cube_size / 2, -cube_size],\n",
        "        ],\n",
        "        dtype=np.float32,\n",
        "    )\n",
        "\n",
        "    image_points, _ = cv2.projectPoints(\n",
        "        object_points, rvec, tvec, camera_matrix, distortion_coeff\n",
        "    )\n",
        "\n",
        "    image_points = np.int32(image_points).reshape(-1, 2)\n",
        "\n",
        "    # 큐브 그리기\n",
        "    cv2.drawContours(image, [image_points[:4]], -1, (0, 255, 0), 3)\n",
        "    for i in range(4):\n",
        "        cv2.line(image, tuple(image_points[i]), tuple(image_points[i + 4]), (0, 255, 0), 3)\n",
        "    cv2.drawContours(image, [image_points[4:]], -1, (0, 255, 0), 3)\n",
        "\n",
        "    return image\n"
      ],
      "metadata": {
        "id": "wC89MmsaXssC"
      },
      "execution_count": null,
      "outputs": []
    },
    {
      "cell_type": "code",
      "source": [
        "# 큐브의 꼭지점 좌표,크기 정의\n",
        "def define_cube_params():\n",
        "    # 큐브의 크기 및 초기 위치 설정\n",
        "    cube_size = 2.7  # 큐브 한 변 길이\n",
        "    cube_center = np.array([0.0, 0.0, cube_size / 2])\n",
        "\n",
        "    return cube_size, cube_center"
      ],
      "metadata": {
        "id": "aY6ucQvTXsuI"
      },
      "execution_count": null,
      "outputs": []
    },
    {
      "cell_type": "code",
      "source": [],
      "metadata": {
        "id": "ZMrWvfF7Xswf"
      },
      "execution_count": null,
      "outputs": []
    },
    {
      "cell_type": "code",
      "source": [],
      "metadata": {
        "id": "Ytw5-eLdXsyl"
      },
      "execution_count": null,
      "outputs": []
    },
    {
      "cell_type": "code",
      "source": [],
      "metadata": {
        "id": "Jna-bkBPXs0v"
      },
      "execution_count": null,
      "outputs": []
    },
    {
      "cell_type": "code",
      "source": [],
      "metadata": {
        "id": "GbmsMNYcXs3F"
      },
      "execution_count": null,
      "outputs": []
    },
    {
      "cell_type": "code",
      "source": [],
      "metadata": {
        "id": "w2uNW96iXs7B"
      },
      "execution_count": null,
      "outputs": []
    }
  ]
}