{
  "nbformat": 4,
  "nbformat_minor": 0,
  "metadata": {
    "colab": {
      "provenance": [],
      "gpuType": "T4"
    },
    "kernelspec": {
      "name": "python3",
      "display_name": "Python 3"
    },
    "language_info": {
      "name": "python"
    },
    "accelerator": "GPU"
  },
  "cells": [
    {
      "cell_type": "code",
      "source": [
        "import cv2\n",
        "import numpy as np\n",
        "from camera_calibration import calibrate_camera\n",
        "from ar_cube import draw_ar_cube, define_cube_params\n",
        "\n",
        "# 카메라 캡처 및 초기화 코드\n",
        "def main():\n",
        "    # 카메라 캘리브레이션 파일 경로\n",
        "    calibration_file = \"\" #\"캘리브레이션 수행 동영상?\"\n",
        "\n",
        "    # 카메라 캘리브레이션 파일이 없으면 캘리브레이션 수행\n",
        "    if not cv2.imread(calibration_file):\n",
        "        print(\"카메라 캘리브레이션을 먼저 수행하세요.\")\n",
        "        return\n",
        "\n",
        "    # 저장된 카메라 캘리브레이션 불러오기\n",
        "    calibration_data = np.load(calibration_file)\n",
        "    camera_matrix, distortion_coeff = (\n",
        "        calibration_data[\"camera_matrix\"],\n",
        "        calibration_data[\"distortion_coeff\"],\n",
        "    )\n",
        "\n",
        "    cube_size, cube_center = define_cube_params()\n",
        "\n",
        "    # 카메라 초기화\n",
        "    cap = cv2.VideoCapture(0)\n",
        "\n",
        "    while True:\n",
        "        ret, frame = cap.read()\n",
        "\n",
        "        if not ret:\n",
        "            print(\"카메라 연결에 실패하였습니다\")\n",
        "            break\n",
        "\n",
        "        # rvec과 tvec 초기화\n",
        "        rvec = np.zeros((3, 1))\n",
        "        tvec = np.zeros((3, 1))\n",
        "\n",
        "        # AR 큐브 그리기\n",
        "        frame = draw_ar_cube(\n",
        "            frame, camera_matrix, distortion_coeff, rvec, tvec, cube_size\n",
        "        )\n",
        "\n",
        "        cv2.imshow(\"AR Cube\", frame)\n",
        "\n",
        "        if cv2.waitKey(1) & 0xFF == ord(\"q\"):\n",
        "            break\n",
        "\n",
        "    cap.release()\n",
        "    cv2.destroyAllWindows()\n",
        "\n",
        "if __name__ == \"__main__\":\n",
        "    main()\n"
      ],
      "metadata": {
        "id": "ZMrWvfF7Xswf"
      },
      "execution_count": null,
      "outputs": []
    }
  ]
}